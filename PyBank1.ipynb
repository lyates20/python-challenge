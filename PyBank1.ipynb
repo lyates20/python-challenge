{
 "cells": [
  {
   "cell_type": "code",
   "execution_count": null,
   "metadata": {},
   "outputs": [],
   "source": [
    "import csv\n",
    "import os\n"
   ]
  },
  {
   "cell_type": "code",
   "execution_count": null,
   "metadata": {},
   "outputs": [],
   "source": [
    "cvspath = os.path.join(\"Resources\", \"budget_data.csv\")\n",
    "pathout = os.path.join(\"Resources\", \"budget_analysis.txt\")"
   ]
  },
  {
   "cell_type": "code",
   "execution_count": null,
   "metadata": {},
   "outputs": [],
   "source": [
    "#total month needs to be set to 0 so I can count \n",
    "totalMonth = 0\n",
    "totalRevenue = 0\n",
    "previousRevenue = 0\n",
    "revenue_change = 0\n",
    "revenue_change_list = []\n",
    "month_of_change = []\n",
    "greatestIncrease = [\"\", 0]\n",
    "greatestDecrease = [\"\", 99999999999]\n"
   ]
  },
  {
   "cell_type": "code",
   "execution_count": null,
   "metadata": {},
   "outputs": [],
   "source": [
    "#Read the budget_data.csv file\n",
    "with open(cvspath) as revenueData:\n",
    "   reader = csv.DictReader(revenueData)\n"
   ]
  },
  {
   "cell_type": "code",
   "execution_count": null,
   "metadata": {},
   "outputs": [],
   "source": [
    "#I need to loop through the data to collect the answers\n",
    "   for row in reader:\n"
   ]
  },
  {
   "cell_type": "code",
   "execution_count": null,
   "metadata": {},
   "outputs": [],
   "source": [
    " #Totaling\n",
    "           totalMonth = totalMonth + 1\n",
    "           totalRevenue = totalRevenue + int(row[\"Revenue\"])"
   ]
  },
  {
   "cell_type": "code",
   "execution_count": null,
   "metadata": {},
   "outputs": [],
   "source": [
    "#changes of revenue calculations\n",
    "           revenue_change = int(row[\"Revenue\"]) - previousRevenue\n",
    "           previousRevenue = int(row[\"Revenue\"])\n",
    "           month_of_change = month_of_change + [row[\"Date\"]]"
   ]
  },
  {
   "cell_type": "code",
   "execution_count": null,
   "metadata": {},
   "outputs": [],
   "source": [
    "   #Greatest Increase value\n",
    "           if (revenue_change > greatestIncrease[1]):\n",
    "               greatestIncrease[1] = revenue_change\n",
    "               greatestIncrease[0] = row[\"Date\"]\n",
    "\n",
    "           if (revenue_change < greatestDecrease[1]):\n",
    "               greatestDecrease[0] = row[\"Date\"]\n",
    "               greatestDecrease[1] = revenue_change"
   ]
  },
  {
   "cell_type": "code",
   "execution_count": null,
   "metadata": {},
   "outputs": [],
   "source": [
    "# calculate the average revenue outside of the loop\n",
    "revenue_avg = sum(revenue_change_list) / len(revenue_change_list)\n"
   ]
  },
  {
   "cell_type": "code",
   "execution_count": null,
   "metadata": {},
   "outputs": [],
   "source": [
    "#print the outcomes\n",
    "output = (\n",
    "    f\"Total Months: {totalMonth}\\n\"\n",
    "    f\"Total Revenue: {totalRevenue}\\n\"\n",
    "    f\"Average Revenue Change: ${revenue_avg}\\n\"\n",
    "    f\"Greatest increase in Revenue: {greatestIncrease[0]} ${greatestIncrease[1]}\\n\"\n",
    "    f\"Greatest decrease in Revenue: {greatestDecrease[0]} ${greatestDecrease[1]}\\n\"\n",
    ")\n",
    "\n",
    "print(output)"
   ]
  },
  {
   "cell_type": "code",
   "execution_count": null,
   "metadata": {},
   "outputs": [],
   "source": [
    "#Write to the text path\n",
    "with open(pathout, \"w\") as txt_file:\n",
    "    txt_file.write(output)\n"
   ]
  },
  {
   "cell_type": "code",
   "execution_count": null,
   "metadata": {},
   "outputs": [],
   "source": []
  }
 ],
 "metadata": {
  "kernelspec": {
   "display_name": "Python 3",
   "language": "python",
   "name": "python3"
  },
  "language_info": {
   "codemirror_mode": {
    "name": "ipython",
    "version": 3
   },
   "file_extension": ".py",
   "mimetype": "text/x-python",
   "name": "python",
   "nbconvert_exporter": "python",
   "pygments_lexer": "ipython3",
   "version": "3.8.3"
  }
 },
 "nbformat": 4,
 "nbformat_minor": 4
}
