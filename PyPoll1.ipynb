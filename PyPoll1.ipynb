{
 "cells": [
  {
   "cell_type": "code",
   "execution_count": 1,
   "metadata": {},
   "outputs": [],
   "source": [
    "#Dependencies\n",
    "import csv\n",
    "import os\n"
   ]
  },
  {
   "cell_type": "code",
   "execution_count": 12,
   "metadata": {},
   "outputs": [],
   "source": [
    "#Load files\n",
    "csvpath = os.path.join(r\"C:\\Users\\lawre\\Downloads\\election_data.csv\")\n",
    "pathout = os.path.join(\"Resources\", \"Election Analysis\")"
   ]
  },
  {
   "cell_type": "code",
   "execution_count": 10,
   "metadata": {},
   "outputs": [],
   "source": [
    "#Variables \n",
    "votes = 0\n",
    "winner_votes = 0\n",
    "total_candidates = 0\n",
    "greatest_votes = [\"\", 0]\n",
    "candidate_options = []\n",
    "candidate_votes = ()\n"
   ]
  },
  {
   "cell_type": "code",
   "execution_count": 13,
   "metadata": {},
   "outputs": [],
   "source": [
    "#read the data\n",
    "with open(csvpath) as election_data:\n",
    "    reader = csv.DictReader(election_data)"
   ]
  },
  {
   "cell_type": "code",
   "execution_count": 27,
   "metadata": {},
   "outputs": [],
   "source": [
    "#Create loop to do work within to find the finish products\n",
    "for row in reader:\n",
    "        votes = votes + 1\n",
    "        total_candidates = row[\"Candidate\"]\n",
    "\n",
    "        if row[\"Candiate not in candiate_options\"]:\n",
    "            candidate_options.append(row[\"Candidate\"])\n",
    "candidate_votes[row[\"Candidate\"]] = 1\n",
    "\n",
    "ifelse \n",
    "\n",
    "    "
   ]
  },
  {
   "cell_type": "code",
   "execution_count": 29,
   "metadata": {},
   "outputs": [],
   "source": [
    " #print information\n",
    "     print()\n",
    "    print()\n",
    "    print()\n",
    "    print(\"Election Results\")\n",
    "    print(\"-------------------------\")\n",
    "    print(\"Total Votes \" + str(votes))\n",
    "    print(\"-------------------------\")"
   ]
  },
  {
   "cell_type": "code",
   "execution_count": 30,
   "metadata": {},
   "outputs": [],
   "source": [
    "#results\n",
    "    for candidate in candidate_votes:\n",
    "        print(candidate + \" \" + str(round(((candidate_votes[candidate]/votes)*100))) + \"%\" + \" (\" + str(candidate_votes[candidate]) + \")\") \n",
    "        candidate_results = (candidate + \" \" + str(round(((candidate_votes[candidate]/votes)*100))) + \"%\" + \" (\" + str(candidate_votes[candidate]) + \")\") \n",
    "    \n",
    "candidate_votes\n",
    "\n",
    "winner = sorted(candidate_votes.items(), key=itemgetter(1), reverse=True)"
   ]
  },
  {
   "cell_type": "code",
   "execution_count": 31,
   "metadata": {},
   "outputs": [],
   "source": [
    "#results\n",
    "print(\"-------------------------\")\n",
    "print(\"Winner: \" + str(winner[0]))\n",
    "print(\"-------------------------\")"
   ]
  },
  {
   "cell_type": "code",
   "execution_count": 32,
   "metadata": {},
   "outputs": [],
   "source": [
    "# Output Files\n",
    "with open(pathout, \"w\") as txt_file:\n",
    "    \n",
    "    txt_file.write(\"Election Results\")\n",
    "    txt_file.write(\"\\n\")\n",
    "    txt_file.write(\"-------------------------\")\n",
    "    txt_file.write(\"\\n\")\n",
    "    #txt_file.write(candidate + \" \" + str(round(((candidate_votes[candidate]/votes)*100))) + \"%\" + \" (\" + str(candidate_votes[candidate]) + \")\")\n",
    "    txt_file.write(str(winner))\n",
    "    txt_file.write(\"\\n\")\n",
    "    txt_file.write(\"-------------------------\")\n",
    "    txt_file.write(\"\\n\")\n",
    "    txt_file.write(\"Winner: \" + str(winner[0]))\n",
    "    txt_file.write(\"\\n\")\n",
    "    txt_file.write(\"Total Votes \" + str(votes))"
   ]
  },
  {
   "cell_type": "code",
   "execution_count": null,
   "metadata": {},
   "outputs": [],
   "source": []
  }
 ],
 "metadata": {
  "kernelspec": {
   "display_name": "Python 3",
   "language": "python",
   "name": "python3"
  },
  "language_info": {
   "codemirror_mode": {
    "name": "ipython",
    "version": 3
   },
   "file_extension": ".py",
   "mimetype": "text/x-python",
   "name": "python",
   "nbconvert_exporter": "python",
   "pygments_lexer": "ipython3",
   "version": "3.8.3"
  }
 },
 "nbformat": 4,
 "nbformat_minor": 4
}
